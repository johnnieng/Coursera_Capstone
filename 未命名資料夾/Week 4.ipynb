{
    "cells": [
        {
            "cell_type": "markdown",
            "metadata": {
                "collapsed": true
            },
            "source": "# 1. Introduction"
        },
        {
            "cell_type": "markdown",
            "metadata": {},
            "source": "## Background"
        },
        {
            "cell_type": "markdown",
            "metadata": {},
            "source": "For Chinese people who are new to Toronto, how do they know what the best Chinese Restaurants are worth going to and where they are? "
        },
        {
            "cell_type": "markdown",
            "metadata": {},
            "source": "## Problem"
        },
        {
            "cell_type": "markdown",
            "metadata": {},
            "source": "This project aims to create a simple guide Chinese Restaurants based on Foursquare rating, restaurant category and geographic location data for restaurants in Toronto."
        },
        {
            "cell_type": "markdown",
            "metadata": {},
            "source": "Finally, these restaurants will be clustered based on their similarities."
        },
        {
            "cell_type": "markdown",
            "metadata": {},
            "source": "## Interest"
        },
        {
            "cell_type": "markdown",
            "metadata": {},
            "source": "Chinese people who are considering to visit Toronto will be interested to explore Chinese Restaurants to get something to eat."
        },
        {
            "cell_type": "markdown",
            "metadata": {},
            "source": "# 2. Data"
        },
        {
            "cell_type": "markdown",
            "metadata": {},
            "source": "## Source"
        },
        {
            "cell_type": "markdown",
            "metadata": {},
            "source": "- Scrape the following Wikipedia page, https://en.wikipedia.org/wiki/List_of_postal_codes_of_Canada:_M, in order to obtain the data that is in the table of postal codes and to transform the data into a pandas dataframe.\n"
        },
        {
            "cell_type": "markdown",
            "metadata": {},
            "source": "- Get geolocator latitude and longitude coordinates for Toronto."
        },
        {
            "cell_type": "markdown",
            "metadata": {},
            "source": "- Use Foursquare API to get a list of restaurants in Toronto.\n"
        },
        {
            "cell_type": "markdown",
            "metadata": {},
            "source": "- Use Foursquare API to get restaurant name, ID, location, category and rating."
        },
        {
            "cell_type": "markdown",
            "metadata": {},
            "source": "## Methodology"
        },
        {
            "cell_type": "markdown",
            "metadata": {},
            "source": "- Use Beautiful Soup library in python to scrape the Wikipedia page to extract the data in the tabular format as shown in the website."
        },
        {
            "cell_type": "markdown",
            "metadata": {},
            "source": "- Use the the csv file to create the dataframe with Latitude and Longitude."
        },
        {
            "cell_type": "markdown",
            "metadata": {},
            "source": "- Merge two data sets on the Postal Code to form a new data set for visualization."
        },
        {
            "cell_type": "markdown",
            "metadata": {},
            "source": "- Use geopy library to get the latitude and longitude values of Toronto."
        },
        {
            "cell_type": "markdown",
            "metadata": {},
            "source": "- Work with only boroughs that contain the word Toronto."
        },
        {
            "cell_type": "markdown",
            "metadata": {},
            "source": "- Use Foursquare API to explore all Chinese Restaurants in Toronto with radius = 500."
        },
        {
            "cell_type": "markdown",
            "metadata": {},
            "source": "- Use Foursqaure API to get rating of Chinese Restaurants based on venue id."
        },
        {
            "cell_type": "markdown",
            "metadata": {},
            "source": "- Use k-means clustering algorithm that groups Chinese Restaurants into 4 clusters."
        },
        {
            "cell_type": "markdown",
            "metadata": {},
            "source": "## Example"
        },
        {
            "cell_type": "markdown",
            "metadata": {},
            "source": "\nNeighborhood\tNeighborhood Latitude\tNeighborhood Longitude\tVenue\tVenue ID\tVenue Latitude\tVenue Longitude\tVenue Category\tRating\tRating_cat\n82\tNorth Toronto West\t43.715383\t-79.405678\tC'est Bon\t4aec79e5f964a5209fc721e3\t43.716785\t-79.400406\tChinese Restaurant\t7.4\tabove avg\n111\tDavisville\t43.704324\t-79.388790\tSouth China Restaurant\t4d74693f6820ba7a77ff3dfe\t43.701899\t-79.387649\tChinese Restaurant\t-1.0\tpoor\n149\tCabbagetown, St. James Town\t43.667967\t-79.367675\tChina Gourmet\t4bca992068f976b017d35f83\t43.664180\t-79.368359\tChinese Restaurant\t6.0\tpoor\n150\tCabbagetown, St. James Town\t43.667967\t-79.367675\tTender Trap Restaurant\t4b7b268cf964a52061542fe3\t43.667724\t-79.369485\tChinese Restaurant\t-1.0\tpoor\n193\tChurch and Wellesley\t43.665860\t-79.383160\tCrown Princess Fine Dining \u4f2f\u7235\u540d\u5bb4\t4c792e4981bca093af5efc14\t43.666455\t-79.387698\tChinese Restaurant\t7.5\tabove avg\n242\tHarbourfront\t43.654260\t-79.360636\tOriental Taste\t4bace084f964a520ca143be3\t43.655304\t-79.365312\tChinese Restaurant\t5.7\tpoor\n278\tRyerson, Garden District\t43.657162\t-79.378937\tGB Hand-Pulled Noodles\t58e91d60e0adac258fcea481\t43.656434\t-79.383783\tChinese Restaurant\t7.8\tabove avg\n313\tRyerson, Garden District\t43.657162\t-79.378937\tGood View Chinese Restaurant\t4adf80b9f964a5202f7b21e3\t43.656791\t-79.376139\tChinese Restaurant\t6.1\tbelow avg\n340\tRyerson, Garden District\t43.657162\t-79.378937\tNeighbor Wang | \u9694\u58c1\u8001\u738b\t57db68bf498e56d5241817c9\t43.661526\t-79.378850\tChinese Restaurant\t-1.0\tpoor\n484\tCentral Bay Street\t43.657952\t-79.387383\tYueh Tung Chinese Restaurant\t52a7ae41498eed3af4d0a3fa\t43.655281\t-79.385337\tChinese Restaurant\t7.8\tabove avg\n485\tCentral Bay Street\t43.657952\t-79.387383\tGB Hand-Pulled Noodles\t58e91d60e0adac258fcea481\t43.656434\t-79.383783\tChinese Restaurant\t7.8\tabove avg\n527\tCentral Bay Street\t43.657952\t-79.387383\tDuck\t4b588e29f964a520c35d28e3\t43.660739\t-79.383913\tChinese Restaurant\t5.8\tpoor\n538\tCentral Bay Street\t43.657952\t-79.387383\tKowloon Seafood Dim Sum Restaurant\t4b5c8b88f964a520b33529e3\t43.656217\t-79.392418\tChinese Restaurant\t-1.0\tpoor\n613\tAdelaide, King, Richmond\t43.650571\t-79.384568\tModern Wok\t4b7ad983f964a520c3402fe3\t43.647339\t-79.384351\tChinese Restaurant\t6.9\tbelow avg\n645\tHarbourfront East, Toronto Islands, Union Station\t43.640816\t-79.381752\tPearl Harbourfront\t4ae33054f964a520759121e3\t43.638157\t-79.380688\tChinese Restaurant\t8.2\tgreat\n672\tHarbourfront East, Toronto Islands, Union Station\t43.640816\t-79.381752\tSzechuan Express\t55df3345498e28c71648d892\t43.641346\t-79.377960\tChinese Restaurant\t6.3\tbelow avg\n703\tHarbourfront East, Toronto Islands, Union Station\t43.640816\t-79.381752\tShanghai 360\t57eebf4b498e72ef33fd6211\t43.641647\t-79.377920\tChinese Restaurant\t-1.0\tpoor\n715\tHarbourfront East, Toronto Islands, Union Station\t43.640816\t-79.381752\tWater Front\t4db2f9fd6e8179a9135e5b45\t43.641510\t-79.375861\tChinese Restaurant\t-1.0\tpoor\n782\tDesign Exchange, Toronto Dominion Centre\t43.647177\t-79.381576\tSzechuan Express\t4d7a6212e8b7a1cdb919971f\t43.646973\t-79.379549\tChinese Restaurant\t7.0\tbelow avg\n891\tCommerce Court, Victoria Hotel\t43.648198\t-79.379817\tSzechuan Express\t4d7a6212e8b7a1cdb919971f\t43.646973\t-79.379549\tChinese Restaurant\t7.0\tbelow avg\n952\tHarbord, University of Toronto\t43.662696\t-79.400049\tRiver Tai Restaurant\t4b340703f964a5200d2425e3\t43.662902\t-79.403167\tChinese Restaurant\t6.6\tbelow avg\n999\tChinatown, Grange Park, Kensington Market\t43.653206\t-79.400049\tSwatow Restaurant \u6c55\u982d\u5c0f\u98df\u5bb6\t4ae29812f964a520288f21e3\t43.653866\t-79.398334\tChinese Restaurant\t7.6\tabove avg\n1006\tChinatown, Grange Park, Kensington Market\t43.653206\t-79.400049\tRosewood Chinese Cuisine\t4fd3ea3ee4b0191b9c2b1aff\t43.653171\t-79.396710\tChinese Restaurant\t7.7\tabove avg\n1007\tChinatown, Grange Park, Kensington Market\t43.653206\t-79.400049\tNew Sky Restaurant \u5c0f\u6c99\u7530\u98df\u5bb6\t4b074bb1f964a52077fb22e3\t43.655337\t-79.398897\tChinese Restaurant\t7.6\tabove avg\n1020\tChinatown, Grange Park, Kensington Market\t43.653206\t-79.400049\tAsian Legend \u5473\u9999\u6751\t4adb5472f964a520fc2521e3\t43.653603\t-79.395047\tChinese Restaurant\t7.8\tabove avg\n1082\tStn A PO Boxes 25 The Esplanade\t43.646435\t-79.374846\tSzechuan Express\t4d7a6212e8b7a1cdb919971f\t43.646973\t-79.379549\tChinese Restaurant\t7.0\tbelow avg\n1211\tFirst Canadian Place, Underground city\t43.648429\t-79.382280\tModern Wok\t4b7ad983f964a520c3402fe3\t43.647339\t-79.384351\tChinese Restaurant\t6.9\tbelow avg\n1217\tFirst Canadian Place, Underground city\t43.648429\t-79.382280\tSzechuan Express\t4d7a6212e8b7a1cdb919971f\t43.646973\t-79.379549\tChinese Restaurant\t7.0\tbelow avg\n1369\tQueen's Park\t43.662301\t-79.389494\tCrown Princess Fine Dining \u4f2f\u7235\u540d\u5bb4\t4c792e4981bca093af5efc14\t43.666455\t-79.387698\tChinese Restaurant\t7.5\tabove avg"
        }
    ],
    "metadata": {
        "kernelspec": {
            "display_name": "Python 3.6",
            "language": "python",
            "name": "python3"
        },
        "language_info": {
            "codemirror_mode": {
                "name": "ipython",
                "version": 3
            },
            "file_extension": ".py",
            "mimetype": "text/x-python",
            "name": "python",
            "nbconvert_exporter": "python",
            "pygments_lexer": "ipython3",
            "version": "3.6.9"
        }
    },
    "nbformat": 4,
    "nbformat_minor": 1
}