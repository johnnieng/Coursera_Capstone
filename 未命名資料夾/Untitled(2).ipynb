{
 "cells": [
  {
   "cell_type": "markdown",
   "metadata": {},
   "source": [
    "# Assignment: Segmenting and Clustering Neighborhoods in Toronto"
   ]
  },
  {
   "cell_type": "markdown",
   "metadata": {},
   "source": [
    "# Install required libraries"
   ]
  },
  {
   "cell_type": "code",
   "execution_count": null,
   "metadata": {},
   "outputs": [],
   "source": [
    "!pip install BeautifulSoup4\n",
    "!pip install lxml\n",
    "!pip install tabulate\n"
   ]
  },
  {
   "cell_type": "markdown",
   "metadata": {},
   "source": [
    "# Import required libraries"
   ]
  },
  {
   "cell_type": "code",
   "execution_count": 5,
   "metadata": {},
   "outputs": [],
   "source": [
    "import pandas as pd\n",
    "import requests\n",
    "from bs4 import BeautifulSoup\n",
    "from tabulate import tabulate\n"
   ]
  },
  {
   "cell_type": "markdown",
   "metadata": {},
   "source": [
    "# Scrape the following Wikipedia page, https://en.wikipedia.org/wiki/List_of_postal_codes_of_Canada:_M, in order to obtain the data that is in the table of postal codes and to transform the data into a pandas dataframe"
   ]
  },
  {
   "cell_type": "code",
   "execution_count": 6,
   "metadata": {},
   "outputs": [],
   "source": [
    "res = requests.get(\"https://en.wikipedia.org/wiki/List_of_postal_codes_of_Canada:_M\")\n",
    "soup = BeautifulSoup(res.content,'lxml')\n",
    "table = soup.find_all('table')\n",
    "df = pd.read_html(str(table))\n"
   ]
  },
  {
   "cell_type": "markdown",
   "metadata": {},
   "source": [
    "# Only process the cells that have an assigned borough. Ignore cells with a borough that is Not assigned."
   ]
  },
  {
   "cell_type": "code",
   "execution_count": 7,
   "metadata": {},
   "outputs": [],
   "source": [
    "df2=df[0][df[0].Borough != 'Not assigned']\n"
   ]
  },
  {
   "cell_type": "markdown",
   "metadata": {},
   "source": [
    "# The dataframe will consist of three columns: PostalCode, Borough, and Neighborhood"
   ]
  },
  {
   "cell_type": "code",
   "execution_count": 8,
   "metadata": {},
   "outputs": [],
   "source": [
    "df2.columns = ['PostalCode', 'Borough', 'Neighbourhood']\n"
   ]
  },
  {
   "cell_type": "markdown",
   "metadata": {},
   "source": [
    "# Combine into one row with the neighborhoods separated with a comma"
   ]
  },
  {
   "cell_type": "code",
   "execution_count": 9,
   "metadata": {},
   "outputs": [],
   "source": [
    "df2 = df2.groupby('PostalCode').agg({'Borough':'first', \n",
    "                             'Neighbourhood': ', '.join\n",
    "                             }).reset_index()\n"
   ]
  },
  {
   "cell_type": "markdown",
   "metadata": {},
   "source": [
    "# If a cell has a borough but a Not assigned neighborhood, then the neighborhood will be the same as the borough."
   ]
  },
  {
   "cell_type": "code",
   "execution_count": 10,
   "metadata": {},
   "outputs": [],
   "source": [
    "df2['Neighbourhood'] = [row[-2] if row[-1]=='Not assigned' else row[-1] for row in df2.itertuples()]\n"
   ]
  },
  {
   "cell_type": "markdown",
   "metadata": {},
   "source": [
    "# Print the dataframe"
   ]
  },
  {
   "cell_type": "code",
   "execution_count": 11,
   "metadata": {},
   "outputs": [
    {
     "name": "stdout",
     "output_type": "stream",
     "text": [
      "+-----+--------------+------------------+----------------------------------------------------------------------------------------------------------------------------------------+\n",
      "|     | PostalCode   | Borough          | Neighbourhood                                                                                                                          |\n",
      "|-----+--------------+------------------+----------------------------------------------------------------------------------------------------------------------------------------|\n",
      "|   0 | M1B          | Scarborough      | Rouge, Malvern                                                                                                                         |\n",
      "|   1 | M1C          | Scarborough      | Highland Creek, Rouge Hill, Port Union                                                                                                 |\n",
      "|   2 | M1E          | Scarborough      | Guildwood, Morningside, West Hill                                                                                                      |\n",
      "|   3 | M1G          | Scarborough      | Woburn                                                                                                                                 |\n",
      "|   4 | M1H          | Scarborough      | Cedarbrae                                                                                                                              |\n",
      "|   5 | M1J          | Scarborough      | Scarborough Village                                                                                                                    |\n",
      "|   6 | M1K          | Scarborough      | East Birchmount Park, Ionview, Kennedy Park                                                                                            |\n",
      "|   7 | M1L          | Scarborough      | Clairlea, Golden Mile, Oakridge                                                                                                        |\n",
      "|   8 | M1M          | Scarborough      | Cliffcrest, Cliffside, Scarborough Village West                                                                                        |\n",
      "|   9 | M1N          | Scarborough      | Birch Cliff, Cliffside West                                                                                                            |\n",
      "|  10 | M1P          | Scarborough      | Dorset Park, Scarborough Town Centre, Wexford Heights                                                                                  |\n",
      "|  11 | M1R          | Scarborough      | Maryvale, Wexford                                                                                                                      |\n",
      "|  12 | M1S          | Scarborough      | Agincourt                                                                                                                              |\n",
      "|  13 | M1T          | Scarborough      | Clarks Corners, Sullivan, Tam O'Shanter                                                                                                |\n",
      "|  14 | M1V          | Scarborough      | Agincourt North, L'Amoreaux East, Milliken, Steeles East                                                                               |\n",
      "|  15 | M1W          | Scarborough      | L'Amoreaux West                                                                                                                        |\n",
      "|  16 | M1X          | Scarborough      | Upper Rouge                                                                                                                            |\n",
      "|  17 | M2H          | North York       | Hillcrest Village                                                                                                                      |\n",
      "|  18 | M2J          | North York       | Fairview, Henry Farm, Oriole                                                                                                           |\n",
      "|  19 | M2K          | North York       | Bayview Village                                                                                                                        |\n",
      "|  20 | M2L          | North York       | Silver Hills, York Mills                                                                                                               |\n",
      "|  21 | M2M          | North York       | Newtonbrook, Willowdale                                                                                                                |\n",
      "|  22 | M2N          | North York       | Willowdale South                                                                                                                       |\n",
      "|  23 | M2P          | North York       | York Mills West                                                                                                                        |\n",
      "|  24 | M2R          | North York       | Willowdale West                                                                                                                        |\n",
      "|  25 | M3A          | North York       | Parkwoods                                                                                                                              |\n",
      "|  26 | M3B          | North York       | Don Mills North                                                                                                                        |\n",
      "|  27 | M3C          | North York       | Flemingdon Park, Don Mills South                                                                                                       |\n",
      "|  28 | M3H          | North York       | Bathurst Manor, Downsview North, Wilson Heights                                                                                        |\n",
      "|  29 | M3J          | North York       | Northwood Park, York University                                                                                                        |\n",
      "|  30 | M3K          | North York       | CFB Toronto, Downsview East                                                                                                            |\n",
      "|  31 | M3L          | North York       | Downsview West                                                                                                                         |\n",
      "|  32 | M3M          | North York       | Downsview Central                                                                                                                      |\n",
      "|  33 | M3N          | North York       | Downsview Northwest                                                                                                                    |\n",
      "|  34 | M4A          | North York       | Victoria Village                                                                                                                       |\n",
      "|  35 | M4B          | East York        | Woodbine Gardens, Parkview Hill                                                                                                        |\n",
      "|  36 | M4C          | East York        | Woodbine Heights                                                                                                                       |\n",
      "|  37 | M4E          | East Toronto     | The Beaches                                                                                                                            |\n",
      "|  38 | M4G          | East York        | Leaside                                                                                                                                |\n",
      "|  39 | M4H          | East York        | Thorncliffe Park                                                                                                                       |\n",
      "|  40 | M4J          | East York        | East Toronto                                                                                                                           |\n",
      "|  41 | M4K          | East Toronto     | The Danforth West, Riverdale                                                                                                           |\n",
      "|  42 | M4L          | East Toronto     | The Beaches West, India Bazaar                                                                                                         |\n",
      "|  43 | M4M          | East Toronto     | Studio District                                                                                                                        |\n",
      "|  44 | M4N          | Central Toronto  | Lawrence Park                                                                                                                          |\n",
      "|  45 | M4P          | Central Toronto  | Davisville North                                                                                                                       |\n",
      "|  46 | M4R          | Central Toronto  | North Toronto West                                                                                                                     |\n",
      "|  47 | M4S          | Central Toronto  | Davisville                                                                                                                             |\n",
      "|  48 | M4T          | Central Toronto  | Moore Park, Summerhill East                                                                                                            |\n",
      "|  49 | M4V          | Central Toronto  | Deer Park, Forest Hill SE, Rathnelly, South Hill, Summerhill West                                                                      |\n",
      "|  50 | M4W          | Downtown Toronto | Rosedale                                                                                                                               |\n",
      "|  51 | M4X          | Downtown Toronto | Cabbagetown, St. James Town                                                                                                            |\n",
      "|  52 | M4Y          | Downtown Toronto | Church and Wellesley                                                                                                                   |\n",
      "|  53 | M5A          | Downtown Toronto | Harbourfront                                                                                                                           |\n",
      "|  54 | M5B          | Downtown Toronto | Ryerson, Garden District                                                                                                               |\n",
      "|  55 | M5C          | Downtown Toronto | St. James Town                                                                                                                         |\n",
      "|  56 | M5E          | Downtown Toronto | Berczy Park                                                                                                                            |\n",
      "|  57 | M5G          | Downtown Toronto | Central Bay Street                                                                                                                     |\n",
      "|  58 | M5H          | Downtown Toronto | Adelaide, King, Richmond                                                                                                               |\n",
      "|  59 | M5J          | Downtown Toronto | Harbourfront East, Toronto Islands, Union Station                                                                                      |\n",
      "|  60 | M5K          | Downtown Toronto | Design Exchange, Toronto Dominion Centre                                                                                               |\n",
      "|  61 | M5L          | Downtown Toronto | Commerce Court, Victoria Hotel                                                                                                         |\n",
      "|  62 | M5M          | North York       | Bedford Park, Lawrence Manor East                                                                                                      |\n",
      "|  63 | M5N          | Central Toronto  | Roselawn                                                                                                                               |\n",
      "|  64 | M5P          | Central Toronto  | Forest Hill North, Forest Hill West                                                                                                    |\n",
      "|  65 | M5R          | Central Toronto  | The Annex, North Midtown, Yorkville                                                                                                    |\n",
      "|  66 | M5S          | Downtown Toronto | Harbord, University of Toronto                                                                                                         |\n",
      "|  67 | M5T          | Downtown Toronto | Chinatown, Grange Park, Kensington Market                                                                                              |\n",
      "|  68 | M5V          | Downtown Toronto | CN Tower, Bathurst Quay, Island airport, Harbourfront West, King and Spadina, Railway Lands, South Niagara                             |\n",
      "|  69 | M5W          | Downtown Toronto | Stn A PO Boxes 25 The Esplanade                                                                                                        |\n",
      "|  70 | M5X          | Downtown Toronto | First Canadian Place, Underground city                                                                                                 |\n",
      "|  71 | M6A          | North York       | Lawrence Heights, Lawrence Manor                                                                                                       |\n",
      "|  72 | M6B          | North York       | Glencairn                                                                                                                              |\n",
      "|  73 | M6C          | York             | Humewood-Cedarvale                                                                                                                     |\n",
      "|  74 | M6E          | York             | Caledonia-Fairbanks                                                                                                                    |\n",
      "|  75 | M6G          | Downtown Toronto | Christie                                                                                                                               |\n",
      "|  76 | M6H          | West Toronto     | Dovercourt Village, Dufferin                                                                                                           |\n",
      "|  77 | M6J          | West Toronto     | Little Portugal, Trinity                                                                                                               |\n",
      "|  78 | M6K          | West Toronto     | Brockton, Exhibition Place, Parkdale Village                                                                                           |\n",
      "|  79 | M6L          | North York       | Downsview, North Park, Upwood Park                                                                                                     |\n",
      "|  80 | M6M          | York             | Del Ray, Keelesdale, Mount Dennis, Silverthorn                                                                                         |\n",
      "|  81 | M6N          | York             | The Junction North, Runnymede                                                                                                          |\n",
      "|  82 | M6P          | West Toronto     | High Park, The Junction South                                                                                                          |\n",
      "|  83 | M6R          | West Toronto     | Parkdale, Roncesvalles                                                                                                                 |\n",
      "|  84 | M6S          | West Toronto     | Runnymede, Swansea                                                                                                                     |\n",
      "|  85 | M7A          | Downtown Toronto | Queen's Park                                                                                                                           |\n",
      "|  86 | M7R          | Mississauga      | Canada Post Gateway Processing Centre                                                                                                  |\n",
      "|  87 | M7Y          | East Toronto     | Business Reply Mail Processing Centre 969 Eastern                                                                                      |\n",
      "|  88 | M8V          | Etobicoke        | Humber Bay Shores, Mimico South, New Toronto                                                                                           |\n",
      "|  89 | M8W          | Etobicoke        | Alderwood, Long Branch                                                                                                                 |\n",
      "|  90 | M8X          | Etobicoke        | The Kingsway, Montgomery Road, Old Mill North                                                                                          |\n",
      "|  91 | M8Y          | Etobicoke        | Humber Bay, King's Mill Park, Kingsway Park South East, Mimico NE, Old Mill South, The Queensway East, Royal York South East, Sunnylea |\n",
      "|  92 | M8Z          | Etobicoke        | Kingsway Park South West, Mimico NW, The Queensway West, Royal York South West, South of Bloor                                         |\n",
      "|  93 | M9A          | Queen's Park     | Queen's Park                                                                                                                           |\n",
      "|  94 | M9B          | Etobicoke        | Cloverdale, Islington, Martin Grove, Princess Gardens, West Deane Park                                                                 |\n",
      "|  95 | M9C          | Etobicoke        | Bloordale Gardens, Eringate, Markland Wood, Old Burnhamthorpe                                                                          |\n",
      "|  96 | M9L          | North York       | Humber Summit                                                                                                                          |\n",
      "|  97 | M9M          | North York       | Emery, Humberlea                                                                                                                       |\n",
      "|  98 | M9N          | York             | Weston                                                                                                                                 |\n",
      "|  99 | M9P          | Etobicoke        | Westmount                                                                                                                              |\n",
      "| 100 | M9R          | Etobicoke        | Kingsview Village, Martin Grove Gardens, Richview Gardens, St. Phillips                                                                |\n",
      "| 101 | M9V          | Etobicoke        | Albion Gardens, Beaumond Heights, Humbergate, Jamestown, Mount Olive, Silverstone, South Steeles, Thistletown                          |\n",
      "| 102 | M9W          | Etobicoke        | Northwest                                                                                                                              |\n",
      "+-----+--------------+------------------+----------------------------------------------------------------------------------------------------------------------------------------+\n"
     ]
    }
   ],
   "source": [
    "print(tabulate(df2, headers='keys', tablefmt='psql') )\n"
   ]
  },
  {
   "cell_type": "markdown",
   "metadata": {},
   "source": [
    "# Use the .shape method to print the number of rows"
   ]
  },
  {
   "cell_type": "code",
   "execution_count": 12,
   "metadata": {},
   "outputs": [
    {
     "data": {
      "text/plain": [
       "(103, 3)"
      ]
     },
     "execution_count": 12,
     "metadata": {},
     "output_type": "execute_result"
    }
   ],
   "source": [
    "df2.shape"
   ]
  },
  {
   "cell_type": "code",
   "execution_count": null,
   "metadata": {},
   "outputs": [],
   "source": []
  }
 ],
 "metadata": {
  "kernelspec": {
   "display_name": "Python",
   "language": "python",
   "name": "conda-env-python-py"
  },
  "language_info": {
   "codemirror_mode": {
    "name": "ipython",
    "version": 3
   },
   "file_extension": ".py",
   "mimetype": "text/x-python",
   "name": "python",
   "nbconvert_exporter": "python",
   "pygments_lexer": "ipython3",
   "version": "3.6.7"
  }
 },
 "nbformat": 4,
 "nbformat_minor": 4
}
