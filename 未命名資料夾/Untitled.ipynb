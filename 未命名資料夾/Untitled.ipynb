{
 "cells": [
  {
   "cell_type": "markdown",
   "metadata": {},
   "source": [
    "# Assignment: Segmenting and Clustering Neighborhoods in Toronto"
   ]
  },
  {
   "cell_type": "markdown",
   "metadata": {},
   "source": [
    "# 1. Install required libraries"
   ]
  },
  {
   "cell_type": "code",
   "execution_count": 2,
   "metadata": {},
   "outputs": [
    {
     "name": "stdout",
     "output_type": "stream",
     "text": [
      "Collecting BeautifulSoup4\n",
      "\u001b[?25l  Downloading https://files.pythonhosted.org/packages/cb/a1/c698cf319e9cfed6b17376281bd0efc6bfc8465698f54170ef60a485ab5d/beautifulsoup4-4.8.2-py3-none-any.whl (106kB)\n",
      "\u001b[K     |████████████████████████████████| 112kB 8.9MB/s eta 0:00:01\n",
      "\u001b[?25hCollecting soupsieve>=1.2 (from BeautifulSoup4)\n",
      "  Downloading https://files.pythonhosted.org/packages/81/94/03c0f04471fc245d08d0a99f7946ac228ca98da4fa75796c507f61e688c2/soupsieve-1.9.5-py2.py3-none-any.whl\n",
      "Installing collected packages: soupsieve, BeautifulSoup4\n",
      "Successfully installed BeautifulSoup4-4.8.2 soupsieve-1.9.5\n",
      "Collecting lxml\n",
      "\u001b[?25l  Downloading https://files.pythonhosted.org/packages/dd/ba/a0e6866057fc0bbd17192925c1d63a3b85cf522965de9bc02364d08e5b84/lxml-4.5.0-cp36-cp36m-manylinux1_x86_64.whl (5.8MB)\n",
      "\u001b[K     |████████████████████████████████| 5.8MB 9.5MB/s eta 0:00:01\n",
      "\u001b[?25hInstalling collected packages: lxml\n",
      "Successfully installed lxml-4.5.0\n",
      "Collecting tabulate\n",
      "\u001b[?25l  Downloading https://files.pythonhosted.org/packages/c4/41/523f6a05e6dc3329a5660f6a81254c6cd87e5cfb5b7482bae3391d86ec3a/tabulate-0.8.6.tar.gz (45kB)\n",
      "\u001b[K     |████████████████████████████████| 51kB 8.8MB/s  eta 0:00:01\n",
      "\u001b[?25hBuilding wheels for collected packages: tabulate\n",
      "  Building wheel for tabulate (setup.py) ... \u001b[?25ldone\n",
      "\u001b[?25h  Stored in directory: /home/jupyterlab/.cache/pip/wheels/9c/9b/f4/eb243fdb89676ec00588e8c54bb54360724c06e7fafe95278e\n",
      "Successfully built tabulate\n",
      "Installing collected packages: tabulate\n",
      "Successfully installed tabulate-0.8.6\n"
     ]
    }
   ],
   "source": [
    "!pip install BeautifulSoup4\n",
    "!pip install lxml\n",
    "!pip install tabulate\n"
   ]
  },
  {
   "cell_type": "markdown",
   "metadata": {},
   "source": [
    "# Import required libraries"
   ]
  },
  {
   "cell_type": "code",
   "execution_count": 3,
   "metadata": {},
   "outputs": [],
   "source": [
    "import pandas as pd\n",
    "import requests\n",
    "from bs4 import BeautifulSoup\n",
    "from tabulate import tabulate\n"
   ]
  },
  {
   "cell_type": "markdown",
   "metadata": {},
   "source": [
    "# Scrape the following Wikipedia page, https://en.wikipedia.org/wiki/List_of_postal_codes_of_Canada:_M, in order to obtain the data that is in the table of postal codes and to transform the data into a pandas dataframe"
   ]
  },
  {
   "cell_type": "code",
   "execution_count": 4,
   "metadata": {},
   "outputs": [],
   "source": [
    "res = requests.get(\"https://en.wikipedia.org/wiki/List_of_postal_codes_of_Canada:_M\")\n",
    "soup = BeautifulSoup(res.content,'lxml')\n",
    "table = soup.find_all('table')\n",
    "df = pd.read_html(str(table))\n"
   ]
  },
  {
   "cell_type": "markdown",
   "metadata": {},
   "source": [
    "# Only process the cells that have an assigned borough. Ignore cells with a borough that is Not assigned."
   ]
  },
  {
   "cell_type": "code",
   "execution_count": 5,
   "metadata": {},
   "outputs": [],
   "source": [
    "df2=df[0][df[0].Borough != 'Not assigned']\n"
   ]
  },
  {
   "cell_type": "markdown",
   "metadata": {},
   "source": [
    "# The dataframe will consist of three columns: PostalCode, Borough, and Neighborhood"
   ]
  },
  {
   "cell_type": "code",
   "execution_count": 6,
   "metadata": {},
   "outputs": [],
   "source": [
    "df2.columns = ['PostalCode', 'Borough', 'Neighbourhood']\n"
   ]
  },
  {
   "cell_type": "markdown",
   "metadata": {},
   "source": [
    "# Combine into one row with the neighborhoods separated with a comma"
   ]
  },
  {
   "cell_type": "code",
   "execution_count": 7,
   "metadata": {},
   "outputs": [],
   "source": [
    "df2 = df2.groupby('PostalCode').agg({'Borough':'first', \n",
    "                             'Neighbourhood': ', '.join\n",
    "                             }).reset_index()\n"
   ]
  },
  {
   "cell_type": "markdown",
   "metadata": {},
   "source": [
    "# If a cell has a borough but a Not assigned neighborhood, then the neighborhood will be the same as the borough."
   ]
  },
  {
   "cell_type": "code",
   "execution_count": 8,
   "metadata": {},
   "outputs": [],
   "source": [
    "df2['Neighbourhood'] = [row[-2] if row[-1]=='Not assigned' else row[-1] for row in df2.itertuples()]\n"
   ]
  },
  {
   "cell_type": "markdown",
   "metadata": {},
   "source": [
    "# Print the dataframe"
   ]
  },
  {
   "cell_type": "code",
   "execution_count": 9,
   "metadata": {},
   "outputs": [
    {
     "name": "stdout",
     "output_type": "stream",
     "text": [
      "+-----+--------------+------------------+----------------------------------------------------------------------------------------------------------------------------------------+\n",
      "|     | PostalCode   | Borough          | Neighbourhood                                                                                                                          |\n",
      "|-----+--------------+------------------+----------------------------------------------------------------------------------------------------------------------------------------|\n",
      "|   0 | M1B          | Scarborough      | Rouge, Malvern                                                                                                                         |\n",
      "|   1 | M1C          | Scarborough      | Highland Creek, Rouge Hill, Port Union                                                                                                 |\n",
      "|   2 | M1E          | Scarborough      | Guildwood, Morningside, West Hill                                                                                                      |\n",
      "|   3 | M1G          | Scarborough      | Woburn                                                                                                                                 |\n",
      "|   4 | M1H          | Scarborough      | Cedarbrae                                                                                                                              |\n",
      "|   5 | M1J          | Scarborough      | Scarborough Village                                                                                                                    |\n",
      "|   6 | M1K          | Scarborough      | East Birchmount Park, Ionview, Kennedy Park                                                                                            |\n",
      "|   7 | M1L          | Scarborough      | Clairlea, Golden Mile, Oakridge                                                                                                        |\n",
      "|   8 | M1M          | Scarborough      | Cliffcrest, Cliffside, Scarborough Village West                                                                                        |\n",
      "|   9 | M1N          | Scarborough      | Birch Cliff, Cliffside West                                                                                                            |\n",
      "|  10 | M1P          | Scarborough      | Dorset Park, Scarborough Town Centre, Wexford Heights                                                                                  |\n",
      "|  11 | M1R          | Scarborough      | Maryvale, Wexford                                                                                                                      |\n",
      "|  12 | M1S          | Scarborough      | Agincourt                                                                                                                              |\n",
      "|  13 | M1T          | Scarborough      | Clarks Corners, Sullivan, Tam O'Shanter                                                                                                |\n",
      "|  14 | M1V          | Scarborough      | Agincourt North, L'Amoreaux East, Milliken, Steeles East                                                                               |\n",
      "|  15 | M1W          | Scarborough      | L'Amoreaux West                                                                                                                        |\n",
      "|  16 | M1X          | Scarborough      | Upper Rouge                                                                                                                            |\n",
      "|  17 | M2H          | North York       | Hillcrest Village                                                                                                                      |\n",
      "|  18 | M2J          | North York       | Fairview, Henry Farm, Oriole                                                                                                           |\n",
      "|  19 | M2K          | North York       | Bayview Village                                                                                                                        |\n",
      "|  20 | M2L          | North York       | Silver Hills, York Mills                                                                                                               |\n",
      "|  21 | M2M          | North York       | Newtonbrook, Willowdale                                                                                                                |\n",
      "|  22 | M2N          | North York       | Willowdale South                                                                                                                       |\n",
      "|  23 | M2P          | North York       | York Mills West                                                                                                                        |\n",
      "|  24 | M2R          | North York       | Willowdale West                                                                                                                        |\n",
      "|  25 | M3A          | North York       | Parkwoods                                                                                                                              |\n",
      "|  26 | M3B          | North York       | Don Mills North                                                                                                                        |\n",
      "|  27 | M3C          | North York       | Flemingdon Park, Don Mills South                                                                                                       |\n",
      "|  28 | M3H          | North York       | Bathurst Manor, Downsview North, Wilson Heights                                                                                        |\n",
      "|  29 | M3J          | North York       | Northwood Park, York University                                                                                                        |\n",
      "|  30 | M3K          | North York       | CFB Toronto, Downsview East                                                                                                            |\n",
      "|  31 | M3L          | North York       | Downsview West                                                                                                                         |\n",
      "|  32 | M3M          | North York       | Downsview Central                                                                                                                      |\n",
      "|  33 | M3N          | North York       | Downsview Northwest                                                                                                                    |\n",
      "|  34 | M4A          | North York       | Victoria Village                                                                                                                       |\n",
      "|  35 | M4B          | East York        | Woodbine Gardens, Parkview Hill                                                                                                        |\n",
      "|  36 | M4C          | East York        | Woodbine Heights                                                                                                                       |\n",
      "|  37 | M4E          | East Toronto     | The Beaches                                                                                                                            |\n",
      "|  38 | M4G          | East York        | Leaside                                                                                                                                |\n",
      "|  39 | M4H          | East York        | Thorncliffe Park                                                                                                                       |\n",
      "|  40 | M4J          | East York        | East Toronto                                                                                                                           |\n",
      "|  41 | M4K          | East Toronto     | The Danforth West, Riverdale                                                                                                           |\n",
      "|  42 | M4L          | East Toronto     | The Beaches West, India Bazaar                                                                                                         |\n",
      "|  43 | M4M          | East Toronto     | Studio District                                                                                                                        |\n",
      "|  44 | M4N          | Central Toronto  | Lawrence Park                                                                                                                          |\n",
      "|  45 | M4P          | Central Toronto  | Davisville North                                                                                                                       |\n",
      "|  46 | M4R          | Central Toronto  | North Toronto West                                                                                                                     |\n",
      "|  47 | M4S          | Central Toronto  | Davisville                                                                                                                             |\n",
      "|  48 | M4T          | Central Toronto  | Moore Park, Summerhill East                                                                                                            |\n",
      "|  49 | M4V          | Central Toronto  | Deer Park, Forest Hill SE, Rathnelly, South Hill, Summerhill West                                                                      |\n",
      "|  50 | M4W          | Downtown Toronto | Rosedale                                                                                                                               |\n",
      "|  51 | M4X          | Downtown Toronto | Cabbagetown, St. James Town                                                                                                            |\n",
      "|  52 | M4Y          | Downtown Toronto | Church and Wellesley                                                                                                                   |\n",
      "|  53 | M5A          | Downtown Toronto | Harbourfront                                                                                                                           |\n",
      "|  54 | M5B          | Downtown Toronto | Ryerson, Garden District                                                                                                               |\n",
      "|  55 | M5C          | Downtown Toronto | St. James Town                                                                                                                         |\n",
      "|  56 | M5E          | Downtown Toronto | Berczy Park                                                                                                                            |\n",
      "|  57 | M5G          | Downtown Toronto | Central Bay Street                                                                                                                     |\n",
      "|  58 | M5H          | Downtown Toronto | Adelaide, King, Richmond                                                                                                               |\n",
      "|  59 | M5J          | Downtown Toronto | Harbourfront East, Toronto Islands, Union Station                                                                                      |\n",
      "|  60 | M5K          | Downtown Toronto | Design Exchange, Toronto Dominion Centre                                                                                               |\n",
      "|  61 | M5L          | Downtown Toronto | Commerce Court, Victoria Hotel                                                                                                         |\n",
      "|  62 | M5M          | North York       | Bedford Park, Lawrence Manor East                                                                                                      |\n",
      "|  63 | M5N          | Central Toronto  | Roselawn                                                                                                                               |\n",
      "|  64 | M5P          | Central Toronto  | Forest Hill North, Forest Hill West                                                                                                    |\n",
      "|  65 | M5R          | Central Toronto  | The Annex, North Midtown, Yorkville                                                                                                    |\n",
      "|  66 | M5S          | Downtown Toronto | Harbord, University of Toronto                                                                                                         |\n",
      "|  67 | M5T          | Downtown Toronto | Chinatown, Grange Park, Kensington Market                                                                                              |\n",
      "|  68 | M5V          | Downtown Toronto | CN Tower, Bathurst Quay, Island airport, Harbourfront West, King and Spadina, Railway Lands, South Niagara                             |\n",
      "|  69 | M5W          | Downtown Toronto | Stn A PO Boxes 25 The Esplanade                                                                                                        |\n",
      "|  70 | M5X          | Downtown Toronto | First Canadian Place, Underground city                                                                                                 |\n",
      "|  71 | M6A          | North York       | Lawrence Heights, Lawrence Manor                                                                                                       |\n",
      "|  72 | M6B          | North York       | Glencairn                                                                                                                              |\n",
      "|  73 | M6C          | York             | Humewood-Cedarvale                                                                                                                     |\n",
      "|  74 | M6E          | York             | Caledonia-Fairbanks                                                                                                                    |\n",
      "|  75 | M6G          | Downtown Toronto | Christie                                                                                                                               |\n",
      "|  76 | M6H          | West Toronto     | Dovercourt Village, Dufferin                                                                                                           |\n",
      "|  77 | M6J          | West Toronto     | Little Portugal, Trinity                                                                                                               |\n",
      "|  78 | M6K          | West Toronto     | Brockton, Exhibition Place, Parkdale Village                                                                                           |\n",
      "|  79 | M6L          | North York       | Downsview, North Park, Upwood Park                                                                                                     |\n",
      "|  80 | M6M          | York             | Del Ray, Keelesdale, Mount Dennis, Silverthorn                                                                                         |\n",
      "|  81 | M6N          | York             | The Junction North, Runnymede                                                                                                          |\n",
      "|  82 | M6P          | West Toronto     | High Park, The Junction South                                                                                                          |\n",
      "|  83 | M6R          | West Toronto     | Parkdale, Roncesvalles                                                                                                                 |\n",
      "|  84 | M6S          | West Toronto     | Runnymede, Swansea                                                                                                                     |\n",
      "|  85 | M7A          | Downtown Toronto | Queen's Park                                                                                                                           |\n",
      "|  86 | M7R          | Mississauga      | Canada Post Gateway Processing Centre                                                                                                  |\n",
      "|  87 | M7Y          | East Toronto     | Business Reply Mail Processing Centre 969 Eastern                                                                                      |\n",
      "|  88 | M8V          | Etobicoke        | Humber Bay Shores, Mimico South, New Toronto                                                                                           |\n",
      "|  89 | M8W          | Etobicoke        | Alderwood, Long Branch                                                                                                                 |\n",
      "|  90 | M8X          | Etobicoke        | The Kingsway, Montgomery Road, Old Mill North                                                                                          |\n",
      "|  91 | M8Y          | Etobicoke        | Humber Bay, King's Mill Park, Kingsway Park South East, Mimico NE, Old Mill South, The Queensway East, Royal York South East, Sunnylea |\n",
      "|  92 | M8Z          | Etobicoke        | Kingsway Park South West, Mimico NW, The Queensway West, Royal York South West, South of Bloor                                         |\n",
      "|  93 | M9A          | Queen's Park     | Queen's Park                                                                                                                           |\n",
      "|  94 | M9B          | Etobicoke        | Cloverdale, Islington, Martin Grove, Princess Gardens, West Deane Park                                                                 |\n",
      "|  95 | M9C          | Etobicoke        | Bloordale Gardens, Eringate, Markland Wood, Old Burnhamthorpe                                                                          |\n",
      "|  96 | M9L          | North York       | Humber Summit                                                                                                                          |\n",
      "|  97 | M9M          | North York       | Emery, Humberlea                                                                                                                       |\n",
      "|  98 | M9N          | York             | Weston                                                                                                                                 |\n",
      "|  99 | M9P          | Etobicoke        | Westmount                                                                                                                              |\n",
      "| 100 | M9R          | Etobicoke        | Kingsview Village, Martin Grove Gardens, Richview Gardens, St. Phillips                                                                |\n",
      "| 101 | M9V          | Etobicoke        | Albion Gardens, Beaumond Heights, Humbergate, Jamestown, Mount Olive, Silverstone, South Steeles, Thistletown                          |\n",
      "| 102 | M9W          | Etobicoke        | Northwest                                                                                                                              |\n",
      "+-----+--------------+------------------+----------------------------------------------------------------------------------------------------------------------------------------+\n"
     ]
    }
   ],
   "source": [
    "print(tabulate(df2, headers='keys', tablefmt='psql') )\n"
   ]
  },
  {
   "cell_type": "markdown",
   "metadata": {},
   "source": [
    "# Use the .shape method to print the number of rows"
   ]
  },
  {
   "cell_type": "code",
   "execution_count": 21,
   "metadata": {},
   "outputs": [
    {
     "data": {
      "text/plain": [
       "(103, 5)"
      ]
     },
     "execution_count": 21,
     "metadata": {},
     "output_type": "execute_result"
    }
   ],
   "source": [
    "df2.shape"
   ]
  },
  {
   "cell_type": "markdown",
   "metadata": {},
   "source": [
    "# 2. Use the the csv file to create the dataframe with Latitude and Longitude"
   ]
  },
  {
   "cell_type": "code",
   "execution_count": 22,
   "metadata": {},
   "outputs": [
    {
     "name": "stdout",
     "output_type": "stream",
     "text": [
      "     PostalCode    Borough           Neighbourhood                                                                                                                             Latitude    Longitude\n",
      "---  ------------  ----------------  --------------------------------------------------------------------------------------------------------------------------------------  ----------  -----------\n",
      "  0  M1B           Scarborough       Rouge, Malvern                                                                                                                           43.806686   -79.194353\n",
      "  1  M1C           Scarborough       Highland Creek, Rouge Hill, Port Union                                                                                                   43.784535   -79.160497\n",
      "  2  M1E           Scarborough       Guildwood, Morningside, West Hill                                                                                                        43.763573   -79.188711\n",
      "  3  M1G           Scarborough       Woburn                                                                                                                                   43.770992   -79.216917\n",
      "  4  M1H           Scarborough       Cedarbrae                                                                                                                                43.773136   -79.239476\n",
      "  5  M1J           Scarborough       Scarborough Village                                                                                                                      43.744734   -79.239476\n",
      "  6  M1K           Scarborough       East Birchmount Park, Ionview, Kennedy Park                                                                                              43.727929   -79.262029\n",
      "  7  M1L           Scarborough       Clairlea, Golden Mile, Oakridge                                                                                                          43.711112   -79.284577\n",
      "  8  M1M           Scarborough       Cliffcrest, Cliffside, Scarborough Village West                                                                                          43.716316   -79.239476\n",
      "  9  M1N           Scarborough       Birch Cliff, Cliffside West                                                                                                              43.692657   -79.264848\n",
      " 10  M1P           Scarborough       Dorset Park, Scarborough Town Centre, Wexford Heights                                                                                    43.757410   -79.273304\n",
      " 11  M1R           Scarborough       Maryvale, Wexford                                                                                                                        43.750072   -79.295849\n",
      " 12  M1S           Scarborough       Agincourt                                                                                                                                43.794200   -79.262029\n",
      " 13  M1T           Scarborough       Clarks Corners, Sullivan, Tam O'Shanter                                                                                                  43.781638   -79.304302\n",
      " 14  M1V           Scarborough       Agincourt North, L'Amoreaux East, Milliken, Steeles East                                                                                 43.815252   -79.284577\n",
      " 15  M1W           Scarborough       L'Amoreaux West                                                                                                                          43.799525   -79.318389\n",
      " 16  M1X           Scarborough       Upper Rouge                                                                                                                              43.836125   -79.205636\n",
      " 17  M2H           North York        Hillcrest Village                                                                                                                        43.803762   -79.363452\n",
      " 18  M2J           North York        Fairview, Henry Farm, Oriole                                                                                                             43.778517   -79.346556\n",
      " 19  M2K           North York        Bayview Village                                                                                                                          43.786947   -79.385975\n",
      " 20  M2L           North York        Silver Hills, York Mills                                                                                                                 43.757490   -79.374714\n",
      " 21  M2M           North York        Newtonbrook, Willowdale                                                                                                                  43.789053   -79.408493\n",
      " 22  M2N           North York        Willowdale South                                                                                                                         43.770120   -79.408493\n",
      " 23  M2P           North York        York Mills West                                                                                                                          43.752758   -79.400049\n",
      " 24  M2R           North York        Willowdale West                                                                                                                          43.782736   -79.442259\n",
      " 25  M3A           North York        Parkwoods                                                                                                                                43.753259   -79.329656\n",
      " 26  M3B           North York        Don Mills North                                                                                                                          43.745906   -79.352188\n",
      " 27  M3C           North York        Flemingdon Park, Don Mills South                                                                                                         43.725900   -79.340923\n",
      " 28  M3H           North York        Bathurst Manor, Downsview North, Wilson Heights                                                                                          43.754328   -79.442259\n",
      " 29  M3J           North York        Northwood Park, York University                                                                                                          43.767980   -79.487262\n",
      " 30  M3K           North York        CFB Toronto, Downsview East                                                                                                              43.737473   -79.464763\n",
      " 31  M3L           North York        Downsview West                                                                                                                           43.739015   -79.506944\n",
      " 32  M3M           North York        Downsview Central                                                                                                                        43.728496   -79.495697\n",
      " 33  M3N           North York        Downsview Northwest                                                                                                                      43.761631   -79.520999\n",
      " 34  M4A           North York        Victoria Village                                                                                                                         43.725882   -79.315572\n",
      " 35  M4B           East York         Woodbine Gardens, Parkview Hill                                                                                                          43.706397   -79.309937\n",
      " 36  M4C           East York         Woodbine Heights                                                                                                                         43.695344   -79.318389\n",
      " 37  M4E           East Toronto      The Beaches                                                                                                                              43.676357   -79.293031\n",
      " 38  M4G           East York         Leaside                                                                                                                                  43.709060   -79.363452\n",
      " 39  M4H           East York         Thorncliffe Park                                                                                                                         43.705369   -79.349372\n",
      " 40  M4J           East York         East Toronto                                                                                                                             43.685347   -79.338106\n",
      " 41  M4K           East Toronto      The Danforth West, Riverdale                                                                                                             43.679557   -79.352188\n",
      " 42  M4L           East Toronto      The Beaches West, India Bazaar                                                                                                           43.668999   -79.315572\n",
      " 43  M4M           East Toronto      Studio District                                                                                                                          43.659526   -79.340923\n",
      " 44  M4N           Central Toronto   Lawrence Park                                                                                                                            43.728020   -79.388790\n",
      " 45  M4P           Central Toronto   Davisville North                                                                                                                         43.712751   -79.390197\n",
      " 46  M4R           Central Toronto   North Toronto West                                                                                                                       43.715383   -79.405678\n",
      " 47  M4S           Central Toronto   Davisville                                                                                                                               43.704324   -79.388790\n",
      " 48  M4T           Central Toronto   Moore Park, Summerhill East                                                                                                              43.689574   -79.383160\n",
      " 49  M4V           Central Toronto   Deer Park, Forest Hill SE, Rathnelly, South Hill, Summerhill West                                                                        43.686412   -79.400049\n",
      " 50  M4W           Downtown Toronto  Rosedale                                                                                                                                 43.679563   -79.377529\n",
      " 51  M4X           Downtown Toronto  Cabbagetown, St. James Town                                                                                                              43.667967   -79.367675\n",
      " 52  M4Y           Downtown Toronto  Church and Wellesley                                                                                                                     43.665860   -79.383160\n",
      " 53  M5A           Downtown Toronto  Harbourfront                                                                                                                             43.654260   -79.360636\n",
      " 54  M5B           Downtown Toronto  Ryerson, Garden District                                                                                                                 43.657162   -79.378937\n",
      " 55  M5C           Downtown Toronto  St. James Town                                                                                                                           43.651494   -79.375418\n",
      " 56  M5E           Downtown Toronto  Berczy Park                                                                                                                              43.644771   -79.373306\n",
      " 57  M5G           Downtown Toronto  Central Bay Street                                                                                                                       43.657952   -79.387383\n",
      " 58  M5H           Downtown Toronto  Adelaide, King, Richmond                                                                                                                 43.650571   -79.384568\n",
      " 59  M5J           Downtown Toronto  Harbourfront East, Toronto Islands, Union Station                                                                                        43.640816   -79.381752\n",
      " 60  M5K           Downtown Toronto  Design Exchange, Toronto Dominion Centre                                                                                                 43.647177   -79.381576\n",
      " 61  M5L           Downtown Toronto  Commerce Court, Victoria Hotel                                                                                                           43.648198   -79.379817\n",
      " 62  M5M           North York        Bedford Park, Lawrence Manor East                                                                                                        43.733283   -79.419750\n",
      " 63  M5N           Central Toronto   Roselawn                                                                                                                                 43.711695   -79.416936\n",
      " 64  M5P           Central Toronto   Forest Hill North, Forest Hill West                                                                                                      43.696948   -79.411307\n",
      " 65  M5R           Central Toronto   The Annex, North Midtown, Yorkville                                                                                                      43.672710   -79.405678\n",
      " 66  M5S           Downtown Toronto  Harbord, University of Toronto                                                                                                           43.662696   -79.400049\n",
      " 67  M5T           Downtown Toronto  Chinatown, Grange Park, Kensington Market                                                                                                43.653206   -79.400049\n",
      " 68  M5V           Downtown Toronto  CN Tower, Bathurst Quay, Island airport, Harbourfront West, King and Spadina, Railway Lands, South Niagara                               43.628947   -79.394420\n",
      " 69  M5W           Downtown Toronto  Stn A PO Boxes 25 The Esplanade                                                                                                          43.646435   -79.374846\n",
      " 70  M5X           Downtown Toronto  First Canadian Place, Underground city                                                                                                   43.648429   -79.382280\n",
      " 71  M6A           North York        Lawrence Heights, Lawrence Manor                                                                                                         43.718518   -79.464763\n",
      " 72  M6B           North York        Glencairn                                                                                                                                43.709577   -79.445073\n",
      " 73  M6C           York              Humewood-Cedarvale                                                                                                                       43.693781   -79.428191\n",
      " 74  M6E           York              Caledonia-Fairbanks                                                                                                                      43.689026   -79.453512\n",
      " 75  M6G           Downtown Toronto  Christie                                                                                                                                 43.669542   -79.422564\n",
      " 76  M6H           West Toronto      Dovercourt Village, Dufferin                                                                                                             43.669005   -79.442259\n",
      " 77  M6J           West Toronto      Little Portugal, Trinity                                                                                                                 43.647927   -79.419750\n",
      " 78  M6K           West Toronto      Brockton, Exhibition Place, Parkdale Village                                                                                             43.636847   -79.428191\n",
      " 79  M6L           North York        Downsview, North Park, Upwood Park                                                                                                       43.713756   -79.490074\n",
      " 80  M6M           York              Del Ray, Keelesdale, Mount Dennis, Silverthorn                                                                                           43.691116   -79.476013\n",
      " 81  M6N           York              The Junction North, Runnymede                                                                                                            43.673185   -79.487262\n",
      " 82  M6P           West Toronto      High Park, The Junction South                                                                                                            43.661608   -79.464763\n",
      " 83  M6R           West Toronto      Parkdale, Roncesvalles                                                                                                                   43.648960   -79.456325\n",
      " 84  M6S           West Toronto      Runnymede, Swansea                                                                                                                       43.651571   -79.484450\n",
      " 85  M7A           Downtown Toronto  Queen's Park                                                                                                                             43.662301   -79.389494\n",
      " 86  M7R           Mississauga       Canada Post Gateway Processing Centre                                                                                                    43.636966   -79.615819\n",
      " 87  M7Y           East Toronto      Business Reply Mail Processing Centre 969 Eastern                                                                                        43.662744   -79.321558\n",
      " 88  M8V           Etobicoke         Humber Bay Shores, Mimico South, New Toronto                                                                                             43.605647   -79.501321\n",
      " 89  M8W           Etobicoke         Alderwood, Long Branch                                                                                                                   43.602414   -79.543484\n",
      " 90  M8X           Etobicoke         The Kingsway, Montgomery Road, Old Mill North                                                                                            43.653654   -79.506944\n",
      " 91  M8Y           Etobicoke         Humber Bay, King's Mill Park, Kingsway Park South East, Mimico NE, Old Mill South, The Queensway East, Royal York South East, Sunnylea   43.636258   -79.498509\n",
      " 92  M8Z           Etobicoke         Kingsway Park South West, Mimico NW, The Queensway West, Royal York South West, South of Bloor                                           43.628841   -79.520999\n",
      " 93  M9A           Queen's Park      Queen's Park                                                                                                                             43.667856   -79.532242\n",
      " 94  M9B           Etobicoke         Cloverdale, Islington, Martin Grove, Princess Gardens, West Deane Park                                                                   43.650943   -79.554724\n",
      " 95  M9C           Etobicoke         Bloordale Gardens, Eringate, Markland Wood, Old Burnhamthorpe                                                                            43.643515   -79.577201\n",
      " 96  M9L           North York        Humber Summit                                                                                                                            43.756303   -79.565963\n",
      " 97  M9M           North York        Emery, Humberlea                                                                                                                         43.724766   -79.532242\n",
      " 98  M9N           York              Weston                                                                                                                                   43.706876   -79.518188\n",
      " 99  M9P           Etobicoke         Westmount                                                                                                                                43.696319   -79.532242\n",
      "100  M9R           Etobicoke         Kingsview Village, Martin Grove Gardens, Richview Gardens, St. Phillips                                                                  43.688905   -79.554724\n",
      "101  M9V           Etobicoke         Albion Gardens, Beaumond Heights, Humbergate, Jamestown, Mount Olive, Silverstone, South Steeles, Thistletown                            43.739416   -79.588437\n",
      "102  M9W           Etobicoke         Northwest                                                                                                                                43.706748   -79.594054\n"
     ]
    }
   ],
   "source": [
    "df3 = pd.read_csv(\"http://cocl.us/Geospatial_data\")\n",
    "df2['Latitude'] = df3['Latitude'].values\n",
    "df2['Longitude'] = df3['Longitude'].values\n",
    "print(tabulate(df2, headers='keys',floatfmt=\".6f\") )\n"
   ]
  },
  {
   "cell_type": "code",
   "execution_count": null,
   "metadata": {},
   "outputs": [],
   "source": []
  }
 ],
 "metadata": {
  "kernelspec": {
   "display_name": "Python",
   "language": "python",
   "name": "conda-env-python-py"
  },
  "language_info": {
   "codemirror_mode": {
    "name": "ipython",
    "version": 3
   },
   "file_extension": ".py",
   "mimetype": "text/x-python",
   "name": "python",
   "nbconvert_exporter": "python",
   "pygments_lexer": "ipython3",
   "version": "3.6.7"
  }
 },
 "nbformat": 4,
 "nbformat_minor": 4
}
