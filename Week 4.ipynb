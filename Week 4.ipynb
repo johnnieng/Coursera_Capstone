{
    "cells": [
        {
            "cell_type": "markdown",
            "metadata": {
                "collapsed": true
            },
            "source": "# 1. Introduction"
        },
        {
            "cell_type": "markdown",
            "metadata": {},
            "source": "## Background"
        },
        {
            "cell_type": "markdown",
            "metadata": {},
            "source": "For Chinese people who are new to Toronto, how do they know what the best Chinese Restaurants are worth going to and where they are? "
        },
        {
            "cell_type": "markdown",
            "metadata": {},
            "source": "## Problem"
        },
        {
            "cell_type": "markdown",
            "metadata": {},
            "source": "This project aims to create a simple guide Chinese Restaurants based on Foursquare rating, restaurant category and geographic location data for restaurants in Toronto."
        },
        {
            "cell_type": "markdown",
            "metadata": {},
            "source": "Finally, these restaurants will be clustered based on their similarities."
        },
        {
            "cell_type": "markdown",
            "metadata": {},
            "source": "## Interest"
        },
        {
            "cell_type": "markdown",
            "metadata": {},
            "source": "Chinese people who are considering to visit Toronto will be interested to explore Chinese Restaurants to get something to eat."
        },
        {
            "cell_type": "markdown",
            "metadata": {},
            "source": "# 2. Data"
        },
        {
            "cell_type": "markdown",
            "metadata": {},
            "source": "## Source"
        },
        {
            "cell_type": "markdown",
            "metadata": {},
            "source": "- Scrape the following Wikipedia page, https://en.wikipedia.org/wiki/List_of_postal_codes_of_Canada:_M, in order to obtain the data that is in the table of postal codes and to transform the data into a pandas dataframe.\n"
        },
        {
            "cell_type": "markdown",
            "metadata": {},
            "source": "- Get geolocator latitude and longitude coordinates for Toronto."
        },
        {
            "cell_type": "markdown",
            "metadata": {},
            "source": "- Use Foursquare API to get a list of restaurants in Toronto.\n"
        },
        {
            "cell_type": "markdown",
            "metadata": {},
            "source": "- Use Foursquare API to get restaurant name, ID, location, category and rating."
        },
        {
            "cell_type": "markdown",
            "metadata": {},
            "source": "## Methodology"
        },
        {
            "cell_type": "markdown",
            "metadata": {},
            "source": "- Use Beautiful Soup library in python to scrape the Wikipedia page to extract the data in the tabular format as shown in the website."
        },
        {
            "cell_type": "markdown",
            "metadata": {},
            "source": "- Use the the csv file to create the dataframe with Latitude and Longitude."
        },
        {
            "cell_type": "markdown",
            "metadata": {},
            "source": "- Merge two data sets on the Postal Code to form a new data set for visualization."
        },
        {
            "cell_type": "markdown",
            "metadata": {},
            "source": "- Use geopy library to get the latitude and longitude values of Toronto."
        },
        {
            "cell_type": "markdown",
            "metadata": {},
            "source": "- Work with only boroughs that contain the word Toronto."
        },
        {
            "cell_type": "markdown",
            "metadata": {},
            "source": "- Use Foursquare API to explore all Chinese Restaurants in Toronto with radius = 500."
        },
        {
            "cell_type": "markdown",
            "metadata": {},
            "source": "- Use Foursqaure API to get rating of Chinese Restaurants based on venue id."
        },
        {
            "cell_type": "markdown",
            "metadata": {},
            "source": "- Use k-means clustering algorithm that groups Chinese Restaurants into 4 clusters."
        },
        {
            "cell_type": "code",
            "execution_count": null,
            "metadata": {},
            "outputs": [],
            "source": ""
        }
    ],
    "metadata": {
        "kernelspec": {
            "display_name": "Python 3.6",
            "language": "python",
            "name": "python3"
        },
        "language_info": {
            "codemirror_mode": {
                "name": "ipython",
                "version": 3
            },
            "file_extension": ".py",
            "mimetype": "text/x-python",
            "name": "python",
            "nbconvert_exporter": "python",
            "pygments_lexer": "ipython3",
            "version": "3.6.9"
        }
    },
    "nbformat": 4,
    "nbformat_minor": 1
}